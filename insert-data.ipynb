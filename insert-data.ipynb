{
 "cells": [
  {
   "cell_type": "code",
   "execution_count": 1,
   "metadata": {},
   "outputs": [],
   "source": [
    "import datetime\n",
    "import glob\n",
    "import json\n",
    "import sqlite3"
   ]
  },
  {
   "cell_type": "markdown",
   "metadata": {},
   "source": [
    "## [SQLite Docs](https://docs.python.org/3/library/sqlite3.html)"
   ]
  },
  {
   "cell_type": "code",
   "execution_count": 2,
   "metadata": {},
   "outputs": [],
   "source": [
    "# Connect to DB\n",
    "database = sqlite3.connect('wordcount.db')\n",
    "cursor = database.cursor()"
   ]
  },
  {
   "cell_type": "code",
   "execution_count": 3,
   "metadata": {},
   "outputs": [
    {
     "data": {
      "text/plain": [
       "<sqlite3.Cursor at 0x2ca65c00570>"
      ]
     },
     "execution_count": 3,
     "metadata": {},
     "output_type": "execute_result"
    }
   ],
   "source": [
    "# Destroy and re-create table to hold data\n",
    "cursor.execute('DROP TABLE IF EXISTS wordcounts;')\n",
    "cursor.execute(\n",
    "    'CREATE TABLE wordcounts ('\n",
    "    '  dt     DATE, '\n",
    "    '  word   VARCHAR(40), '\n",
    "    '  count  INTEGER '\n",
    "    ');'\n",
    ")"
   ]
  },
  {
   "cell_type": "code",
   "execution_count": 4,
   "metadata": {},
   "outputs": [
    {
     "data": {
      "text/plain": [
       "['2020-02-01.json',\n",
       " '2020-02-02.json',\n",
       " '2020-02-03.json',\n",
       " '2020-02-04.json',\n",
       " '2020-02-05.json']"
      ]
     },
     "execution_count": 4,
     "metadata": {},
     "output_type": "execute_result"
    }
   ],
   "source": [
    "# Find data files\n",
    "all_files = glob.glob('*.json')\n",
    "all_files"
   ]
  },
  {
   "cell_type": "code",
   "execution_count": 5,
   "metadata": {},
   "outputs": [],
   "source": [
    "for file_name in all_files:\n",
    "    # Extract date from file name\n",
    "    dt = datetime.datetime.strptime(file_name, '%Y-%m-%d.json')\n",
    "\n",
    "    # Load data\n",
    "    with open(file_name, encoding='utf-8') as f:\n",
    "        data = json.load(f)\n",
    "        \n",
    "    # Insert records into database table\n",
    "    for word, count in data.items():\n",
    "        cursor.execute('INSERT INTO wordcounts VALUES (?, ?, ?);', (dt, word, count))\n",
    "        \n",
    "# Save the database\n",
    "database.commit()"
   ]
  },
  {
   "cell_type": "code",
   "execution_count": 6,
   "metadata": {},
   "outputs": [
    {
     "data": {
      "text/plain": [
       "[('2020-02-01 00:00:00', 'brexit', 997),\n",
       " ('2020-02-02 00:00:00', 'brexit', 928),\n",
       " ('2020-02-03 00:00:00', 'brexit', 964),\n",
       " ('2020-02-04 00:00:00', 'brexit', 262),\n",
       " ('2020-02-05 00:00:00', 'brexit', 704)]"
      ]
     },
     "execution_count": 6,
     "metadata": {},
     "output_type": "execute_result"
    }
   ],
   "source": [
    "cursor.execute(\"SELECT * FROM wordcounts WHERE word = 'brexit' ORDER BY dt\")\n",
    "cursor.fetchall()"
   ]
  }
 ],
 "metadata": {
  "kernelspec": {
   "display_name": "Python 3",
   "language": "python",
   "name": "python3"
  },
  "language_info": {
   "codemirror_mode": {
    "name": "ipython",
    "version": 3
   },
   "file_extension": ".py",
   "mimetype": "text/x-python",
   "name": "python",
   "nbconvert_exporter": "python",
   "pygments_lexer": "ipython3",
   "version": "3.6.10"
  }
 },
 "nbformat": 4,
 "nbformat_minor": 4
}
